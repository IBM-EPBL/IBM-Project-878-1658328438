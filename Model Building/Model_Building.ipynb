{
  "nbformat": 4,
  "nbformat_minor": 0,
  "metadata": {
    "colab": {
      "provenance": []
    },
    "kernelspec": {
      "name": "python3",
      "display_name": "Python 3"
    },
    "language_info": {
      "name": "python"
    }
  },
  "cells": [
    {
      "cell_type": "code",
      "execution_count": null,
      "metadata": {
        "id": "YnKfOmatMj5F"
      },
      "outputs": [],
      "source": [
        "import warnings\n",
        "warnings.filterwarnings(\"ignore\")"
      ]
    },
    {
      "cell_type": "code",
      "source": [
        "import pandas as pd\n",
        "import numpy as np"
      ],
      "metadata": {
        "id": "bSlc2I26MvZ-"
      },
      "execution_count": null,
      "outputs": []
    },
    {
      "cell_type": "code",
      "source": [
        "df=pd.read_csv('dataset.csv')"
      ],
      "metadata": {
        "id": "q0Xht02ONZN3"
      },
      "execution_count": null,
      "outputs": []
    },
    {
      "cell_type": "markdown",
      "source": [
        "DATA CLEANING"
      ],
      "metadata": {
        "id": "EDUfHtXbRcWy"
      }
    },
    {
      "cell_type": "code",
      "source": [
        "df.isnull().sum()"
      ],
      "metadata": {
        "colab": {
          "base_uri": "https://localhost:8080/"
        },
        "id": "tgDmfewlNhpy",
        "outputId": "30c4801e-0b54-4043-d0ad-fbb49c9bc216"
      },
      "execution_count": null,
      "outputs": [
        {
          "output_type": "execute_result",
          "data": {
            "text/plain": [
              "index                          0\n",
              "having_IPhaving_IP_Address     0\n",
              "URLURL_Length                  0\n",
              "Shortining_Service             0\n",
              "having_At_Symbol               0\n",
              "double_slash_redirecting       0\n",
              "Prefix_Suffix                  0\n",
              "having_Sub_Domain              0\n",
              "SSLfinal_State                 0\n",
              "Domain_registeration_length    0\n",
              "Favicon                        0\n",
              "port                           0\n",
              "HTTPS_token                    0\n",
              "Request_URL                    0\n",
              "URL_of_Anchor                  0\n",
              "Links_in_tags                  0\n",
              "SFH                            0\n",
              "Submitting_to_email            0\n",
              "Abnormal_URL                   0\n",
              "Redirect                       0\n",
              "on_mouseover                   0\n",
              "RightClick                     0\n",
              "popUpWidnow                    0\n",
              "Iframe                         0\n",
              "age_of_domain                  0\n",
              "DNSRecord                      0\n",
              "web_traffic                    1\n",
              "Page_Rank                      1\n",
              "Google_Index                   1\n",
              "Links_pointing_to_page         1\n",
              "Statistical_report             1\n",
              "Result                         1\n",
              "dtype: int64"
            ]
          },
          "metadata": {},
          "execution_count": 6
        }
      ]
    },
    {
      "cell_type": "code",
      "source": [
        "df.info()\n"
      ],
      "metadata": {
        "colab": {
          "base_uri": "https://localhost:8080/"
        },
        "id": "Uk98LrJ8NoZl",
        "outputId": "98eb43d0-de2f-4e7b-8c4e-0f81efe58c03"
      },
      "execution_count": null,
      "outputs": [
        {
          "output_type": "stream",
          "name": "stdout",
          "text": [
            "<class 'pandas.core.frame.DataFrame'>\n",
            "RangeIndex: 6291 entries, 0 to 6290\n",
            "Data columns (total 32 columns):\n",
            " #   Column                       Non-Null Count  Dtype  \n",
            "---  ------                       --------------  -----  \n",
            " 0   index                        6291 non-null   int64  \n",
            " 1   having_IPhaving_IP_Address   6291 non-null   int64  \n",
            " 2   URLURL_Length                6291 non-null   int64  \n",
            " 3   Shortining_Service           6291 non-null   int64  \n",
            " 4   having_At_Symbol             6291 non-null   int64  \n",
            " 5   double_slash_redirecting     6291 non-null   int64  \n",
            " 6   Prefix_Suffix                6291 non-null   int64  \n",
            " 7   having_Sub_Domain            6291 non-null   int64  \n",
            " 8   SSLfinal_State               6291 non-null   int64  \n",
            " 9   Domain_registeration_length  6291 non-null   int64  \n",
            " 10  Favicon                      6291 non-null   int64  \n",
            " 11  port                         6291 non-null   int64  \n",
            " 12  HTTPS_token                  6291 non-null   int64  \n",
            " 13  Request_URL                  6291 non-null   int64  \n",
            " 14  URL_of_Anchor                6291 non-null   int64  \n",
            " 15  Links_in_tags                6291 non-null   int64  \n",
            " 16  SFH                          6291 non-null   int64  \n",
            " 17  Submitting_to_email          6291 non-null   int64  \n",
            " 18  Abnormal_URL                 6291 non-null   int64  \n",
            " 19  Redirect                     6291 non-null   int64  \n",
            " 20  on_mouseover                 6291 non-null   int64  \n",
            " 21  RightClick                   6291 non-null   int64  \n",
            " 22  popUpWidnow                  6291 non-null   int64  \n",
            " 23  Iframe                       6291 non-null   int64  \n",
            " 24  age_of_domain                6291 non-null   int64  \n",
            " 25  DNSRecord                    6291 non-null   int64  \n",
            " 26  web_traffic                  6290 non-null   float64\n",
            " 27  Page_Rank                    6290 non-null   float64\n",
            " 28  Google_Index                 6290 non-null   float64\n",
            " 29  Links_pointing_to_page       6290 non-null   float64\n",
            " 30  Statistical_report           6290 non-null   float64\n",
            " 31  Result                       6290 non-null   float64\n",
            "dtypes: float64(6), int64(26)\n",
            "memory usage: 1.5 MB\n"
          ]
        }
      ]
    },
    {
      "cell_type": "code",
      "source": [
        "df['web_traffic']=df['web_traffic'].fillna(df['web_traffic'].median())"
      ],
      "metadata": {
        "id": "JaIQZNG9N32P"
      },
      "execution_count": null,
      "outputs": []
    },
    {
      "cell_type": "code",
      "source": [
        "df['Page_Rank']=df['Page_Rank'].fillna(df['Page_Rank'].median())"
      ],
      "metadata": {
        "id": "BdkJgb3COgf1"
      },
      "execution_count": null,
      "outputs": []
    },
    {
      "cell_type": "code",
      "source": [
        "df['Google_Index']=df['Google_Index'].fillna(df['Google_Index'].median())"
      ],
      "metadata": {
        "id": "_GkYxxCROm0m"
      },
      "execution_count": null,
      "outputs": []
    },
    {
      "cell_type": "code",
      "source": [
        "df['Links_pointing_to_page']=df['Links_pointing_to_page'].fillna(df['Links_pointing_to_page'].median())"
      ],
      "metadata": {
        "id": "w_p7TuaYOvgI"
      },
      "execution_count": null,
      "outputs": []
    },
    {
      "cell_type": "code",
      "source": [
        "df['Statistical_report']=df['Statistical_report'].fillna(df['Statistical_report'].median())"
      ],
      "metadata": {
        "id": "YE9iAnf9O70k"
      },
      "execution_count": null,
      "outputs": []
    },
    {
      "cell_type": "code",
      "source": [
        "df['Result']=df['Result'].fillna(df['Result'].median())"
      ],
      "metadata": {
        "id": "-YqDyxlyPEeo"
      },
      "execution_count": null,
      "outputs": []
    },
    {
      "cell_type": "markdown",
      "source": [
        "**CHECKING FOR NULL VALUES**"
      ],
      "metadata": {
        "id": "dZl3-23VRoCx"
      }
    },
    {
      "cell_type": "code",
      "source": [
        "df.isnull().sum()"
      ],
      "metadata": {
        "colab": {
          "base_uri": "https://localhost:8080/"
        },
        "id": "w60ZNKKURvii",
        "outputId": "ac7aa1ff-ca54-4f2e-fa38-d4e1cce68771"
      },
      "execution_count": null,
      "outputs": [
        {
          "output_type": "execute_result",
          "data": {
            "text/plain": [
              "index                          0\n",
              "having_IPhaving_IP_Address     0\n",
              "URLURL_Length                  0\n",
              "Shortining_Service             0\n",
              "having_At_Symbol               0\n",
              "double_slash_redirecting       0\n",
              "Prefix_Suffix                  0\n",
              "having_Sub_Domain              0\n",
              "SSLfinal_State                 0\n",
              "Domain_registeration_length    0\n",
              "Favicon                        0\n",
              "port                           0\n",
              "HTTPS_token                    0\n",
              "Request_URL                    0\n",
              "URL_of_Anchor                  0\n",
              "Links_in_tags                  0\n",
              "SFH                            0\n",
              "Submitting_to_email            0\n",
              "Abnormal_URL                   0\n",
              "Redirect                       0\n",
              "on_mouseover                   0\n",
              "RightClick                     0\n",
              "popUpWidnow                    0\n",
              "Iframe                         0\n",
              "age_of_domain                  0\n",
              "DNSRecord                      0\n",
              "web_traffic                    0\n",
              "Page_Rank                      0\n",
              "Google_Index                   0\n",
              "Links_pointing_to_page         0\n",
              "Statistical_report             0\n",
              "Result                         0\n",
              "dtype: int64"
            ]
          },
          "metadata": {},
          "execution_count": 20
        }
      ]
    },
    {
      "cell_type": "code",
      "source": [
        "import matplotlib.pyplot as plt"
      ],
      "metadata": {
        "id": "KOv-XLMtPMEz"
      },
      "execution_count": null,
      "outputs": []
    },
    {
      "cell_type": "code",
      "source": [
        "from sklearn.model_selection import train_test_split\n",
        "\n",
        "from sklearn.linear_model import (\n",
        "    LogisticRegression,\n",
        "    SGDClassifier,\n",
        ")"
      ],
      "metadata": {
        "id": "KMeftD1mRJC7"
      },
      "execution_count": null,
      "outputs": []
    },
    {
      "cell_type": "code",
      "source": [
        "from sklearn.discriminant_analysis import QuadraticDiscriminantAnalysis\n",
        "\n",
        "from sklearn.svm import SVC\n",
        "\n",
        "from sklearn.tree import DecisionTreeClassifier\n",
        "\n",
        "from sklearn.neighbors import KNeighborsClassifier\n",
        "\n",
        "from sklearn.ensemble import RandomForestClassifier\n",
        "\n",
        "from sklearn.neural_network import MLPClassifier\n",
        "\n",
        "from sklearn.metrics import (\n",
        "    accuracy_score,\n",
        "    precision_score,\n",
        "    recall_score,\n",
        "    f1_score,\n",
        "    log_loss,\n",
        "    roc_auc_score,\n",
        "    confusion_matrix\n",
        ")"
      ],
      "metadata": {
        "id": "Fm-rCtStRNHU"
      },
      "execution_count": null,
      "outputs": []
    },
    {
      "cell_type": "code",
      "source": [
        "import xgboost as xgb"
      ],
      "metadata": {
        "id": "DcrcuT8NRU5v"
      },
      "execution_count": null,
      "outputs": []
    },
    {
      "cell_type": "code",
      "source": [
        "import pickle"
      ],
      "metadata": {
        "id": "wP4BwfakRV55"
      },
      "execution_count": null,
      "outputs": []
    },
    {
      "cell_type": "markdown",
      "source": [
        "**Splitting the dataset**"
      ],
      "metadata": {
        "id": "odLvrfD7R4ak"
      }
    },
    {
      "cell_type": "code",
      "source": [
        "features = df.iloc[:, :-1]\n",
        "labels = df.iloc[:, -1]"
      ],
      "metadata": {
        "id": "V_gbKPTqRYkn"
      },
      "execution_count": null,
      "outputs": []
    },
    {
      "cell_type": "code",
      "source": [
        "features.head()"
      ],
      "metadata": {
        "colab": {
          "base_uri": "https://localhost:8080/",
          "height": 300
        },
        "id": "_R4-7biSSLMv",
        "outputId": "14709669-9851-42d8-d072-d63bf665ea39"
      },
      "execution_count": null,
      "outputs": [
        {
          "output_type": "execute_result",
          "data": {
            "text/plain": [
              "   index  having_IPhaving_IP_Address  URLURL_Length  Shortining_Service  \\\n",
              "0      1                          -1              1                   1   \n",
              "1      2                           1              1                   1   \n",
              "2      3                           1              0                   1   \n",
              "3      4                           1              0                   1   \n",
              "4      5                           1              0                  -1   \n",
              "\n",
              "   having_At_Symbol  double_slash_redirecting  Prefix_Suffix  \\\n",
              "0                 1                        -1             -1   \n",
              "1                 1                         1             -1   \n",
              "2                 1                         1             -1   \n",
              "3                 1                         1             -1   \n",
              "4                 1                         1             -1   \n",
              "\n",
              "   having_Sub_Domain  SSLfinal_State  Domain_registeration_length  ...  \\\n",
              "0                 -1              -1                           -1  ...   \n",
              "1                  0               1                           -1  ...   \n",
              "2                 -1              -1                           -1  ...   \n",
              "3                 -1              -1                            1  ...   \n",
              "4                  1               1                           -1  ...   \n",
              "\n",
              "   RightClick  popUpWidnow  Iframe  age_of_domain  DNSRecord  web_traffic  \\\n",
              "0           1            1       1             -1         -1         -1.0   \n",
              "1           1            1       1             -1         -1          0.0   \n",
              "2           1            1       1              1         -1          1.0   \n",
              "3           1            1       1             -1         -1          1.0   \n",
              "4           1           -1       1             -1         -1          0.0   \n",
              "\n",
              "   Page_Rank  Google_Index  Links_pointing_to_page  Statistical_report  \n",
              "0       -1.0           1.0                     1.0                -1.0  \n",
              "1       -1.0           1.0                     1.0                 1.0  \n",
              "2       -1.0           1.0                     0.0                -1.0  \n",
              "3       -1.0           1.0                    -1.0                 1.0  \n",
              "4       -1.0           1.0                     1.0                 1.0  \n",
              "\n",
              "[5 rows x 31 columns]"
            ],
            "text/html": [
              "\n",
              "  <div id=\"df-13c47f45-6630-4e0e-ac9f-fb747cab51b2\">\n",
              "    <div class=\"colab-df-container\">\n",
              "      <div>\n",
              "<style scoped>\n",
              "    .dataframe tbody tr th:only-of-type {\n",
              "        vertical-align: middle;\n",
              "    }\n",
              "\n",
              "    .dataframe tbody tr th {\n",
              "        vertical-align: top;\n",
              "    }\n",
              "\n",
              "    .dataframe thead th {\n",
              "        text-align: right;\n",
              "    }\n",
              "</style>\n",
              "<table border=\"1\" class=\"dataframe\">\n",
              "  <thead>\n",
              "    <tr style=\"text-align: right;\">\n",
              "      <th></th>\n",
              "      <th>index</th>\n",
              "      <th>having_IPhaving_IP_Address</th>\n",
              "      <th>URLURL_Length</th>\n",
              "      <th>Shortining_Service</th>\n",
              "      <th>having_At_Symbol</th>\n",
              "      <th>double_slash_redirecting</th>\n",
              "      <th>Prefix_Suffix</th>\n",
              "      <th>having_Sub_Domain</th>\n",
              "      <th>SSLfinal_State</th>\n",
              "      <th>Domain_registeration_length</th>\n",
              "      <th>...</th>\n",
              "      <th>RightClick</th>\n",
              "      <th>popUpWidnow</th>\n",
              "      <th>Iframe</th>\n",
              "      <th>age_of_domain</th>\n",
              "      <th>DNSRecord</th>\n",
              "      <th>web_traffic</th>\n",
              "      <th>Page_Rank</th>\n",
              "      <th>Google_Index</th>\n",
              "      <th>Links_pointing_to_page</th>\n",
              "      <th>Statistical_report</th>\n",
              "    </tr>\n",
              "  </thead>\n",
              "  <tbody>\n",
              "    <tr>\n",
              "      <th>0</th>\n",
              "      <td>1</td>\n",
              "      <td>-1</td>\n",
              "      <td>1</td>\n",
              "      <td>1</td>\n",
              "      <td>1</td>\n",
              "      <td>-1</td>\n",
              "      <td>-1</td>\n",
              "      <td>-1</td>\n",
              "      <td>-1</td>\n",
              "      <td>-1</td>\n",
              "      <td>...</td>\n",
              "      <td>1</td>\n",
              "      <td>1</td>\n",
              "      <td>1</td>\n",
              "      <td>-1</td>\n",
              "      <td>-1</td>\n",
              "      <td>-1.0</td>\n",
              "      <td>-1.0</td>\n",
              "      <td>1.0</td>\n",
              "      <td>1.0</td>\n",
              "      <td>-1.0</td>\n",
              "    </tr>\n",
              "    <tr>\n",
              "      <th>1</th>\n",
              "      <td>2</td>\n",
              "      <td>1</td>\n",
              "      <td>1</td>\n",
              "      <td>1</td>\n",
              "      <td>1</td>\n",
              "      <td>1</td>\n",
              "      <td>-1</td>\n",
              "      <td>0</td>\n",
              "      <td>1</td>\n",
              "      <td>-1</td>\n",
              "      <td>...</td>\n",
              "      <td>1</td>\n",
              "      <td>1</td>\n",
              "      <td>1</td>\n",
              "      <td>-1</td>\n",
              "      <td>-1</td>\n",
              "      <td>0.0</td>\n",
              "      <td>-1.0</td>\n",
              "      <td>1.0</td>\n",
              "      <td>1.0</td>\n",
              "      <td>1.0</td>\n",
              "    </tr>\n",
              "    <tr>\n",
              "      <th>2</th>\n",
              "      <td>3</td>\n",
              "      <td>1</td>\n",
              "      <td>0</td>\n",
              "      <td>1</td>\n",
              "      <td>1</td>\n",
              "      <td>1</td>\n",
              "      <td>-1</td>\n",
              "      <td>-1</td>\n",
              "      <td>-1</td>\n",
              "      <td>-1</td>\n",
              "      <td>...</td>\n",
              "      <td>1</td>\n",
              "      <td>1</td>\n",
              "      <td>1</td>\n",
              "      <td>1</td>\n",
              "      <td>-1</td>\n",
              "      <td>1.0</td>\n",
              "      <td>-1.0</td>\n",
              "      <td>1.0</td>\n",
              "      <td>0.0</td>\n",
              "      <td>-1.0</td>\n",
              "    </tr>\n",
              "    <tr>\n",
              "      <th>3</th>\n",
              "      <td>4</td>\n",
              "      <td>1</td>\n",
              "      <td>0</td>\n",
              "      <td>1</td>\n",
              "      <td>1</td>\n",
              "      <td>1</td>\n",
              "      <td>-1</td>\n",
              "      <td>-1</td>\n",
              "      <td>-1</td>\n",
              "      <td>1</td>\n",
              "      <td>...</td>\n",
              "      <td>1</td>\n",
              "      <td>1</td>\n",
              "      <td>1</td>\n",
              "      <td>-1</td>\n",
              "      <td>-1</td>\n",
              "      <td>1.0</td>\n",
              "      <td>-1.0</td>\n",
              "      <td>1.0</td>\n",
              "      <td>-1.0</td>\n",
              "      <td>1.0</td>\n",
              "    </tr>\n",
              "    <tr>\n",
              "      <th>4</th>\n",
              "      <td>5</td>\n",
              "      <td>1</td>\n",
              "      <td>0</td>\n",
              "      <td>-1</td>\n",
              "      <td>1</td>\n",
              "      <td>1</td>\n",
              "      <td>-1</td>\n",
              "      <td>1</td>\n",
              "      <td>1</td>\n",
              "      <td>-1</td>\n",
              "      <td>...</td>\n",
              "      <td>1</td>\n",
              "      <td>-1</td>\n",
              "      <td>1</td>\n",
              "      <td>-1</td>\n",
              "      <td>-1</td>\n",
              "      <td>0.0</td>\n",
              "      <td>-1.0</td>\n",
              "      <td>1.0</td>\n",
              "      <td>1.0</td>\n",
              "      <td>1.0</td>\n",
              "    </tr>\n",
              "  </tbody>\n",
              "</table>\n",
              "<p>5 rows × 31 columns</p>\n",
              "</div>\n",
              "      <button class=\"colab-df-convert\" onclick=\"convertToInteractive('df-13c47f45-6630-4e0e-ac9f-fb747cab51b2')\"\n",
              "              title=\"Convert this dataframe to an interactive table.\"\n",
              "              style=\"display:none;\">\n",
              "        \n",
              "  <svg xmlns=\"http://www.w3.org/2000/svg\" height=\"24px\"viewBox=\"0 0 24 24\"\n",
              "       width=\"24px\">\n",
              "    <path d=\"M0 0h24v24H0V0z\" fill=\"none\"/>\n",
              "    <path d=\"M18.56 5.44l.94 2.06.94-2.06 2.06-.94-2.06-.94-.94-2.06-.94 2.06-2.06.94zm-11 1L8.5 8.5l.94-2.06 2.06-.94-2.06-.94L8.5 2.5l-.94 2.06-2.06.94zm10 10l.94 2.06.94-2.06 2.06-.94-2.06-.94-.94-2.06-.94 2.06-2.06.94z\"/><path d=\"M17.41 7.96l-1.37-1.37c-.4-.4-.92-.59-1.43-.59-.52 0-1.04.2-1.43.59L10.3 9.45l-7.72 7.72c-.78.78-.78 2.05 0 2.83L4 21.41c.39.39.9.59 1.41.59.51 0 1.02-.2 1.41-.59l7.78-7.78 2.81-2.81c.8-.78.8-2.07 0-2.86zM5.41 20L4 18.59l7.72-7.72 1.47 1.35L5.41 20z\"/>\n",
              "  </svg>\n",
              "      </button>\n",
              "      \n",
              "  <style>\n",
              "    .colab-df-container {\n",
              "      display:flex;\n",
              "      flex-wrap:wrap;\n",
              "      gap: 12px;\n",
              "    }\n",
              "\n",
              "    .colab-df-convert {\n",
              "      background-color: #E8F0FE;\n",
              "      border: none;\n",
              "      border-radius: 50%;\n",
              "      cursor: pointer;\n",
              "      display: none;\n",
              "      fill: #1967D2;\n",
              "      height: 32px;\n",
              "      padding: 0 0 0 0;\n",
              "      width: 32px;\n",
              "    }\n",
              "\n",
              "    .colab-df-convert:hover {\n",
              "      background-color: #E2EBFA;\n",
              "      box-shadow: 0px 1px 2px rgba(60, 64, 67, 0.3), 0px 1px 3px 1px rgba(60, 64, 67, 0.15);\n",
              "      fill: #174EA6;\n",
              "    }\n",
              "\n",
              "    [theme=dark] .colab-df-convert {\n",
              "      background-color: #3B4455;\n",
              "      fill: #D2E3FC;\n",
              "    }\n",
              "\n",
              "    [theme=dark] .colab-df-convert:hover {\n",
              "      background-color: #434B5C;\n",
              "      box-shadow: 0px 1px 3px 1px rgba(0, 0, 0, 0.15);\n",
              "      filter: drop-shadow(0px 1px 2px rgba(0, 0, 0, 0.3));\n",
              "      fill: #FFFFFF;\n",
              "    }\n",
              "  </style>\n",
              "\n",
              "      <script>\n",
              "        const buttonEl =\n",
              "          document.querySelector('#df-13c47f45-6630-4e0e-ac9f-fb747cab51b2 button.colab-df-convert');\n",
              "        buttonEl.style.display =\n",
              "          google.colab.kernel.accessAllowed ? 'block' : 'none';\n",
              "\n",
              "        async function convertToInteractive(key) {\n",
              "          const element = document.querySelector('#df-13c47f45-6630-4e0e-ac9f-fb747cab51b2');\n",
              "          const dataTable =\n",
              "            await google.colab.kernel.invokeFunction('convertToInteractive',\n",
              "                                                     [key], {});\n",
              "          if (!dataTable) return;\n",
              "\n",
              "          const docLinkHtml = 'Like what you see? Visit the ' +\n",
              "            '<a target=\"_blank\" href=https://colab.research.google.com/notebooks/data_table.ipynb>data table notebook</a>'\n",
              "            + ' to learn more about interactive tables.';\n",
              "          element.innerHTML = '';\n",
              "          dataTable['output_type'] = 'display_data';\n",
              "          await google.colab.output.renderOutput(dataTable, element);\n",
              "          const docLink = document.createElement('div');\n",
              "          docLink.innerHTML = docLinkHtml;\n",
              "          element.appendChild(docLink);\n",
              "        }\n",
              "      </script>\n",
              "    </div>\n",
              "  </div>\n",
              "  "
            ]
          },
          "metadata": {},
          "execution_count": 23
        }
      ]
    },
    {
      "cell_type": "code",
      "source": [
        "labels.head()"
      ],
      "metadata": {
        "colab": {
          "base_uri": "https://localhost:8080/"
        },
        "id": "xCDRpdmVSLfK",
        "outputId": "2fe1e005-54a3-4578-fcd0-f35c48beda11"
      },
      "execution_count": null,
      "outputs": [
        {
          "output_type": "execute_result",
          "data": {
            "text/plain": [
              "0   -1.0\n",
              "1   -1.0\n",
              "2   -1.0\n",
              "3   -1.0\n",
              "4    1.0\n",
              "Name: Result, dtype: float64"
            ]
          },
          "metadata": {},
          "execution_count": 24
        }
      ]
    },
    {
      "cell_type": "markdown",
      "source": [
        "**Splitting the dataset into train and test data**"
      ],
      "metadata": {
        "id": "SlDtnTlqUVPe"
      }
    },
    {
      "cell_type": "code",
      "source": [
        "featuresTraining, featuresTesting, labelsTraining, labelsTesting = train_test_split(features, labels, test_size = 1/3, random_state = 369)"
      ],
      "metadata": {
        "id": "2h-Hilw4UXWN"
      },
      "execution_count": null,
      "outputs": []
    },
    {
      "cell_type": "code",
      "source": [
        "featuresTraining"
      ],
      "metadata": {
        "colab": {
          "base_uri": "https://localhost:8080/",
          "height": 488
        },
        "id": "hrBWyqaMUbOT",
        "outputId": "e7b56f44-0ba2-4bb5-d1de-ec0e87f3867d"
      },
      "execution_count": null,
      "outputs": [
        {
          "output_type": "execute_result",
          "data": {
            "text/plain": [
              "      index  having_IPhaving_IP_Address  URLURL_Length  Shortining_Service  \\\n",
              "2058   2059                           1              1                   1   \n",
              "2669   2670                           1              1                   1   \n",
              "1001   1002                           1             -1                   1   \n",
              "6129   6130                           1              1                   1   \n",
              "5776   5777                          -1             -1                   1   \n",
              "...     ...                         ...            ...                 ...   \n",
              "1048   1049                           1             -1                   1   \n",
              "1364   1365                           1             -1                   1   \n",
              "4370   4371                           1              1                   1   \n",
              "1389   1390                           1             -1                   1   \n",
              "270     271                           1             -1                   1   \n",
              "\n",
              "      having_At_Symbol  double_slash_redirecting  Prefix_Suffix  \\\n",
              "2058                -1                         1             -1   \n",
              "2669                -1                         1             -1   \n",
              "1001                 1                         1             -1   \n",
              "6129                 1                         1             -1   \n",
              "5776                 1                         1             -1   \n",
              "...                ...                       ...            ...   \n",
              "1048                 1                         1             -1   \n",
              "1364                 1                         1             -1   \n",
              "4370                -1                         1             -1   \n",
              "1389                 1                         1             -1   \n",
              "270                  1                         1             -1   \n",
              "\n",
              "      having_Sub_Domain  SSLfinal_State  Domain_registeration_length  ...  \\\n",
              "2058                 -1              -1                           -1  ...   \n",
              "2669                  1              -1                           -1  ...   \n",
              "1001                  1               1                           -1  ...   \n",
              "6129                  1               0                           -1  ...   \n",
              "5776                  0              -1                            1  ...   \n",
              "...                 ...             ...                          ...  ...   \n",
              "1048                  0               0                            1  ...   \n",
              "1364                 -1              -1                           -1  ...   \n",
              "4370                  0              -1                           -1  ...   \n",
              "1389                  1               1                           -1  ...   \n",
              "270                   0              -1                           -1  ...   \n",
              "\n",
              "      RightClick  popUpWidnow  Iframe  age_of_domain  DNSRecord  web_traffic  \\\n",
              "2058           1            1       1              1          1          1.0   \n",
              "2669           1            1       1             -1          1         -1.0   \n",
              "1001           1            1       1              1          1          1.0   \n",
              "6129           1            1       1              1          1         -1.0   \n",
              "5776           1            1       1             -1          1          0.0   \n",
              "...          ...          ...     ...            ...        ...          ...   \n",
              "1048           1            1       1              1         -1         -1.0   \n",
              "1364           1            1       1             -1          1          1.0   \n",
              "4370           1            1       1             -1         -1         -1.0   \n",
              "1389           1            1       1              1          1          0.0   \n",
              "270            1            1       1             -1          1          1.0   \n",
              "\n",
              "      Page_Rank  Google_Index  Links_pointing_to_page  Statistical_report  \n",
              "2058       -1.0           1.0                     0.0                 1.0  \n",
              "2669       -1.0           1.0                     0.0                 1.0  \n",
              "1001       -1.0           1.0                     0.0                 1.0  \n",
              "6129       -1.0           1.0                     0.0                 1.0  \n",
              "5776       -1.0           1.0                     0.0                 1.0  \n",
              "...         ...           ...                     ...                 ...  \n",
              "1048       -1.0           1.0                     1.0                 1.0  \n",
              "1364       -1.0           1.0                     0.0                 1.0  \n",
              "4370       -1.0          -1.0                     1.0                 1.0  \n",
              "1389       -1.0           1.0                    -1.0                 1.0  \n",
              "270        -1.0           1.0                     0.0                 1.0  \n",
              "\n",
              "[4194 rows x 31 columns]"
            ],
            "text/html": [
              "\n",
              "  <div id=\"df-37a8e2e0-54ea-45bd-bd39-80196eaeb24d\">\n",
              "    <div class=\"colab-df-container\">\n",
              "      <div>\n",
              "<style scoped>\n",
              "    .dataframe tbody tr th:only-of-type {\n",
              "        vertical-align: middle;\n",
              "    }\n",
              "\n",
              "    .dataframe tbody tr th {\n",
              "        vertical-align: top;\n",
              "    }\n",
              "\n",
              "    .dataframe thead th {\n",
              "        text-align: right;\n",
              "    }\n",
              "</style>\n",
              "<table border=\"1\" class=\"dataframe\">\n",
              "  <thead>\n",
              "    <tr style=\"text-align: right;\">\n",
              "      <th></th>\n",
              "      <th>index</th>\n",
              "      <th>having_IPhaving_IP_Address</th>\n",
              "      <th>URLURL_Length</th>\n",
              "      <th>Shortining_Service</th>\n",
              "      <th>having_At_Symbol</th>\n",
              "      <th>double_slash_redirecting</th>\n",
              "      <th>Prefix_Suffix</th>\n",
              "      <th>having_Sub_Domain</th>\n",
              "      <th>SSLfinal_State</th>\n",
              "      <th>Domain_registeration_length</th>\n",
              "      <th>...</th>\n",
              "      <th>RightClick</th>\n",
              "      <th>popUpWidnow</th>\n",
              "      <th>Iframe</th>\n",
              "      <th>age_of_domain</th>\n",
              "      <th>DNSRecord</th>\n",
              "      <th>web_traffic</th>\n",
              "      <th>Page_Rank</th>\n",
              "      <th>Google_Index</th>\n",
              "      <th>Links_pointing_to_page</th>\n",
              "      <th>Statistical_report</th>\n",
              "    </tr>\n",
              "  </thead>\n",
              "  <tbody>\n",
              "    <tr>\n",
              "      <th>2058</th>\n",
              "      <td>2059</td>\n",
              "      <td>1</td>\n",
              "      <td>1</td>\n",
              "      <td>1</td>\n",
              "      <td>-1</td>\n",
              "      <td>1</td>\n",
              "      <td>-1</td>\n",
              "      <td>-1</td>\n",
              "      <td>-1</td>\n",
              "      <td>-1</td>\n",
              "      <td>...</td>\n",
              "      <td>1</td>\n",
              "      <td>1</td>\n",
              "      <td>1</td>\n",
              "      <td>1</td>\n",
              "      <td>1</td>\n",
              "      <td>1.0</td>\n",
              "      <td>-1.0</td>\n",
              "      <td>1.0</td>\n",
              "      <td>0.0</td>\n",
              "      <td>1.0</td>\n",
              "    </tr>\n",
              "    <tr>\n",
              "      <th>2669</th>\n",
              "      <td>2670</td>\n",
              "      <td>1</td>\n",
              "      <td>1</td>\n",
              "      <td>1</td>\n",
              "      <td>-1</td>\n",
              "      <td>1</td>\n",
              "      <td>-1</td>\n",
              "      <td>1</td>\n",
              "      <td>-1</td>\n",
              "      <td>-1</td>\n",
              "      <td>...</td>\n",
              "      <td>1</td>\n",
              "      <td>1</td>\n",
              "      <td>1</td>\n",
              "      <td>-1</td>\n",
              "      <td>1</td>\n",
              "      <td>-1.0</td>\n",
              "      <td>-1.0</td>\n",
              "      <td>1.0</td>\n",
              "      <td>0.0</td>\n",
              "      <td>1.0</td>\n",
              "    </tr>\n",
              "    <tr>\n",
              "      <th>1001</th>\n",
              "      <td>1002</td>\n",
              "      <td>1</td>\n",
              "      <td>-1</td>\n",
              "      <td>1</td>\n",
              "      <td>1</td>\n",
              "      <td>1</td>\n",
              "      <td>-1</td>\n",
              "      <td>1</td>\n",
              "      <td>1</td>\n",
              "      <td>-1</td>\n",
              "      <td>...</td>\n",
              "      <td>1</td>\n",
              "      <td>1</td>\n",
              "      <td>1</td>\n",
              "      <td>1</td>\n",
              "      <td>1</td>\n",
              "      <td>1.0</td>\n",
              "      <td>-1.0</td>\n",
              "      <td>1.0</td>\n",
              "      <td>0.0</td>\n",
              "      <td>1.0</td>\n",
              "    </tr>\n",
              "    <tr>\n",
              "      <th>6129</th>\n",
              "      <td>6130</td>\n",
              "      <td>1</td>\n",
              "      <td>1</td>\n",
              "      <td>1</td>\n",
              "      <td>1</td>\n",
              "      <td>1</td>\n",
              "      <td>-1</td>\n",
              "      <td>1</td>\n",
              "      <td>0</td>\n",
              "      <td>-1</td>\n",
              "      <td>...</td>\n",
              "      <td>1</td>\n",
              "      <td>1</td>\n",
              "      <td>1</td>\n",
              "      <td>1</td>\n",
              "      <td>1</td>\n",
              "      <td>-1.0</td>\n",
              "      <td>-1.0</td>\n",
              "      <td>1.0</td>\n",
              "      <td>0.0</td>\n",
              "      <td>1.0</td>\n",
              "    </tr>\n",
              "    <tr>\n",
              "      <th>5776</th>\n",
              "      <td>5777</td>\n",
              "      <td>-1</td>\n",
              "      <td>-1</td>\n",
              "      <td>1</td>\n",
              "      <td>1</td>\n",
              "      <td>1</td>\n",
              "      <td>-1</td>\n",
              "      <td>0</td>\n",
              "      <td>-1</td>\n",
              "      <td>1</td>\n",
              "      <td>...</td>\n",
              "      <td>1</td>\n",
              "      <td>1</td>\n",
              "      <td>1</td>\n",
              "      <td>-1</td>\n",
              "      <td>1</td>\n",
              "      <td>0.0</td>\n",
              "      <td>-1.0</td>\n",
              "      <td>1.0</td>\n",
              "      <td>0.0</td>\n",
              "      <td>1.0</td>\n",
              "    </tr>\n",
              "    <tr>\n",
              "      <th>...</th>\n",
              "      <td>...</td>\n",
              "      <td>...</td>\n",
              "      <td>...</td>\n",
              "      <td>...</td>\n",
              "      <td>...</td>\n",
              "      <td>...</td>\n",
              "      <td>...</td>\n",
              "      <td>...</td>\n",
              "      <td>...</td>\n",
              "      <td>...</td>\n",
              "      <td>...</td>\n",
              "      <td>...</td>\n",
              "      <td>...</td>\n",
              "      <td>...</td>\n",
              "      <td>...</td>\n",
              "      <td>...</td>\n",
              "      <td>...</td>\n",
              "      <td>...</td>\n",
              "      <td>...</td>\n",
              "      <td>...</td>\n",
              "      <td>...</td>\n",
              "    </tr>\n",
              "    <tr>\n",
              "      <th>1048</th>\n",
              "      <td>1049</td>\n",
              "      <td>1</td>\n",
              "      <td>-1</td>\n",
              "      <td>1</td>\n",
              "      <td>1</td>\n",
              "      <td>1</td>\n",
              "      <td>-1</td>\n",
              "      <td>0</td>\n",
              "      <td>0</td>\n",
              "      <td>1</td>\n",
              "      <td>...</td>\n",
              "      <td>1</td>\n",
              "      <td>1</td>\n",
              "      <td>1</td>\n",
              "      <td>1</td>\n",
              "      <td>-1</td>\n",
              "      <td>-1.0</td>\n",
              "      <td>-1.0</td>\n",
              "      <td>1.0</td>\n",
              "      <td>1.0</td>\n",
              "      <td>1.0</td>\n",
              "    </tr>\n",
              "    <tr>\n",
              "      <th>1364</th>\n",
              "      <td>1365</td>\n",
              "      <td>1</td>\n",
              "      <td>-1</td>\n",
              "      <td>1</td>\n",
              "      <td>1</td>\n",
              "      <td>1</td>\n",
              "      <td>-1</td>\n",
              "      <td>-1</td>\n",
              "      <td>-1</td>\n",
              "      <td>-1</td>\n",
              "      <td>...</td>\n",
              "      <td>1</td>\n",
              "      <td>1</td>\n",
              "      <td>1</td>\n",
              "      <td>-1</td>\n",
              "      <td>1</td>\n",
              "      <td>1.0</td>\n",
              "      <td>-1.0</td>\n",
              "      <td>1.0</td>\n",
              "      <td>0.0</td>\n",
              "      <td>1.0</td>\n",
              "    </tr>\n",
              "    <tr>\n",
              "      <th>4370</th>\n",
              "      <td>4371</td>\n",
              "      <td>1</td>\n",
              "      <td>1</td>\n",
              "      <td>1</td>\n",
              "      <td>-1</td>\n",
              "      <td>1</td>\n",
              "      <td>-1</td>\n",
              "      <td>0</td>\n",
              "      <td>-1</td>\n",
              "      <td>-1</td>\n",
              "      <td>...</td>\n",
              "      <td>1</td>\n",
              "      <td>1</td>\n",
              "      <td>1</td>\n",
              "      <td>-1</td>\n",
              "      <td>-1</td>\n",
              "      <td>-1.0</td>\n",
              "      <td>-1.0</td>\n",
              "      <td>-1.0</td>\n",
              "      <td>1.0</td>\n",
              "      <td>1.0</td>\n",
              "    </tr>\n",
              "    <tr>\n",
              "      <th>1389</th>\n",
              "      <td>1390</td>\n",
              "      <td>1</td>\n",
              "      <td>-1</td>\n",
              "      <td>1</td>\n",
              "      <td>1</td>\n",
              "      <td>1</td>\n",
              "      <td>-1</td>\n",
              "      <td>1</td>\n",
              "      <td>1</td>\n",
              "      <td>-1</td>\n",
              "      <td>...</td>\n",
              "      <td>1</td>\n",
              "      <td>1</td>\n",
              "      <td>1</td>\n",
              "      <td>1</td>\n",
              "      <td>1</td>\n",
              "      <td>0.0</td>\n",
              "      <td>-1.0</td>\n",
              "      <td>1.0</td>\n",
              "      <td>-1.0</td>\n",
              "      <td>1.0</td>\n",
              "    </tr>\n",
              "    <tr>\n",
              "      <th>270</th>\n",
              "      <td>271</td>\n",
              "      <td>1</td>\n",
              "      <td>-1</td>\n",
              "      <td>1</td>\n",
              "      <td>1</td>\n",
              "      <td>1</td>\n",
              "      <td>-1</td>\n",
              "      <td>0</td>\n",
              "      <td>-1</td>\n",
              "      <td>-1</td>\n",
              "      <td>...</td>\n",
              "      <td>1</td>\n",
              "      <td>1</td>\n",
              "      <td>1</td>\n",
              "      <td>-1</td>\n",
              "      <td>1</td>\n",
              "      <td>1.0</td>\n",
              "      <td>-1.0</td>\n",
              "      <td>1.0</td>\n",
              "      <td>0.0</td>\n",
              "      <td>1.0</td>\n",
              "    </tr>\n",
              "  </tbody>\n",
              "</table>\n",
              "<p>4194 rows × 31 columns</p>\n",
              "</div>\n",
              "      <button class=\"colab-df-convert\" onclick=\"convertToInteractive('df-37a8e2e0-54ea-45bd-bd39-80196eaeb24d')\"\n",
              "              title=\"Convert this dataframe to an interactive table.\"\n",
              "              style=\"display:none;\">\n",
              "        \n",
              "  <svg xmlns=\"http://www.w3.org/2000/svg\" height=\"24px\"viewBox=\"0 0 24 24\"\n",
              "       width=\"24px\">\n",
              "    <path d=\"M0 0h24v24H0V0z\" fill=\"none\"/>\n",
              "    <path d=\"M18.56 5.44l.94 2.06.94-2.06 2.06-.94-2.06-.94-.94-2.06-.94 2.06-2.06.94zm-11 1L8.5 8.5l.94-2.06 2.06-.94-2.06-.94L8.5 2.5l-.94 2.06-2.06.94zm10 10l.94 2.06.94-2.06 2.06-.94-2.06-.94-.94-2.06-.94 2.06-2.06.94z\"/><path d=\"M17.41 7.96l-1.37-1.37c-.4-.4-.92-.59-1.43-.59-.52 0-1.04.2-1.43.59L10.3 9.45l-7.72 7.72c-.78.78-.78 2.05 0 2.83L4 21.41c.39.39.9.59 1.41.59.51 0 1.02-.2 1.41-.59l7.78-7.78 2.81-2.81c.8-.78.8-2.07 0-2.86zM5.41 20L4 18.59l7.72-7.72 1.47 1.35L5.41 20z\"/>\n",
              "  </svg>\n",
              "      </button>\n",
              "      \n",
              "  <style>\n",
              "    .colab-df-container {\n",
              "      display:flex;\n",
              "      flex-wrap:wrap;\n",
              "      gap: 12px;\n",
              "    }\n",
              "\n",
              "    .colab-df-convert {\n",
              "      background-color: #E8F0FE;\n",
              "      border: none;\n",
              "      border-radius: 50%;\n",
              "      cursor: pointer;\n",
              "      display: none;\n",
              "      fill: #1967D2;\n",
              "      height: 32px;\n",
              "      padding: 0 0 0 0;\n",
              "      width: 32px;\n",
              "    }\n",
              "\n",
              "    .colab-df-convert:hover {\n",
              "      background-color: #E2EBFA;\n",
              "      box-shadow: 0px 1px 2px rgba(60, 64, 67, 0.3), 0px 1px 3px 1px rgba(60, 64, 67, 0.15);\n",
              "      fill: #174EA6;\n",
              "    }\n",
              "\n",
              "    [theme=dark] .colab-df-convert {\n",
              "      background-color: #3B4455;\n",
              "      fill: #D2E3FC;\n",
              "    }\n",
              "\n",
              "    [theme=dark] .colab-df-convert:hover {\n",
              "      background-color: #434B5C;\n",
              "      box-shadow: 0px 1px 3px 1px rgba(0, 0, 0, 0.15);\n",
              "      filter: drop-shadow(0px 1px 2px rgba(0, 0, 0, 0.3));\n",
              "      fill: #FFFFFF;\n",
              "    }\n",
              "  </style>\n",
              "\n",
              "      <script>\n",
              "        const buttonEl =\n",
              "          document.querySelector('#df-37a8e2e0-54ea-45bd-bd39-80196eaeb24d button.colab-df-convert');\n",
              "        buttonEl.style.display =\n",
              "          google.colab.kernel.accessAllowed ? 'block' : 'none';\n",
              "\n",
              "        async function convertToInteractive(key) {\n",
              "          const element = document.querySelector('#df-37a8e2e0-54ea-45bd-bd39-80196eaeb24d');\n",
              "          const dataTable =\n",
              "            await google.colab.kernel.invokeFunction('convertToInteractive',\n",
              "                                                     [key], {});\n",
              "          if (!dataTable) return;\n",
              "\n",
              "          const docLinkHtml = 'Like what you see? Visit the ' +\n",
              "            '<a target=\"_blank\" href=https://colab.research.google.com/notebooks/data_table.ipynb>data table notebook</a>'\n",
              "            + ' to learn more about interactive tables.';\n",
              "          element.innerHTML = '';\n",
              "          dataTable['output_type'] = 'display_data';\n",
              "          await google.colab.output.renderOutput(dataTable, element);\n",
              "          const docLink = document.createElement('div');\n",
              "          docLink.innerHTML = docLinkHtml;\n",
              "          element.appendChild(docLink);\n",
              "        }\n",
              "      </script>\n",
              "    </div>\n",
              "  </div>\n",
              "  "
            ]
          },
          "metadata": {},
          "execution_count": 26
        }
      ]
    },
    {
      "cell_type": "code",
      "source": [
        "featuresTesting"
      ],
      "metadata": {
        "colab": {
          "base_uri": "https://localhost:8080/",
          "height": 488
        },
        "id": "HzjFbyTiUe28",
        "outputId": "e38ee158-349d-449c-a986-7471a2ff250d"
      },
      "execution_count": null,
      "outputs": [
        {
          "output_type": "execute_result",
          "data": {
            "text/plain": [
              "      index  having_IPhaving_IP_Address  URLURL_Length  Shortining_Service  \\\n",
              "5862   5863                          -1             -1                   1   \n",
              "2804   2805                           1             -1                   1   \n",
              "129     130                           1             -1                   1   \n",
              "5130   5131                           1             -1                  -1   \n",
              "5957   5958                           1             -1                   1   \n",
              "...     ...                         ...            ...                 ...   \n",
              "792     793                           1              1                   1   \n",
              "5857   5858                          -1             -1                   1   \n",
              "5910   5911                           1             -1                  -1   \n",
              "4226   4227                           1              1                   1   \n",
              "5988   5989                           1             -1                   1   \n",
              "\n",
              "      having_At_Symbol  double_slash_redirecting  Prefix_Suffix  \\\n",
              "5862                 1                         1             -1   \n",
              "2804                 1                         1             -1   \n",
              "129                  1                        -1             -1   \n",
              "5130                 1                         1             -1   \n",
              "5957                 1                         1             -1   \n",
              "...                ...                       ...            ...   \n",
              "792                  1                         1             -1   \n",
              "5857                 1                         1              1   \n",
              "5910                 1                        -1             -1   \n",
              "4226                 1                         1             -1   \n",
              "5988                 1                         1             -1   \n",
              "\n",
              "      having_Sub_Domain  SSLfinal_State  Domain_registeration_length  ...  \\\n",
              "5862                  0              -1                            1  ...   \n",
              "2804                  1               1                           -1  ...   \n",
              "129                  -1               1                           -1  ...   \n",
              "5130                  0               1                           -1  ...   \n",
              "5957                  1              -1                           -1  ...   \n",
              "...                 ...             ...                          ...  ...   \n",
              "792                   1               1                           -1  ...   \n",
              "5857                  1              -1                           -1  ...   \n",
              "5910                  1               0                            1  ...   \n",
              "4226                  0               1                           -1  ...   \n",
              "5988                  1               1                           -1  ...   \n",
              "\n",
              "      RightClick  popUpWidnow  Iframe  age_of_domain  DNSRecord  web_traffic  \\\n",
              "5862           1           -1       1             -1          1         -1.0   \n",
              "2804           1            1       1              1         -1          0.0   \n",
              "129            1            1       1             -1         -1          1.0   \n",
              "5130           1            1       1             -1          1          0.0   \n",
              "5957           1            1       1             -1          1          0.0   \n",
              "...          ...          ...     ...            ...        ...          ...   \n",
              "792            1            1       1              1          1         -1.0   \n",
              "5857           1            1       1             -1          1         -1.0   \n",
              "5910           1            1       1             -1         -1         -1.0   \n",
              "4226           1           -1      -1             -1         -1          1.0   \n",
              "5988           1            1       1             -1          1          1.0   \n",
              "\n",
              "      Page_Rank  Google_Index  Links_pointing_to_page  Statistical_report  \n",
              "5862        1.0           1.0                     1.0                 1.0  \n",
              "2804       -1.0           1.0                     0.0                 1.0  \n",
              "129        -1.0           1.0                     0.0                 1.0  \n",
              "5130       -1.0           1.0                     0.0                 1.0  \n",
              "5957       -1.0           1.0                     0.0                 1.0  \n",
              "...         ...           ...                     ...                 ...  \n",
              "792         1.0           1.0                     0.0                 1.0  \n",
              "5857        1.0           1.0                     1.0                 1.0  \n",
              "5910       -1.0          -1.0                     0.0                -1.0  \n",
              "4226       -1.0           1.0                    -1.0                 1.0  \n",
              "5988       -1.0           1.0                     0.0                 1.0  \n",
              "\n",
              "[2097 rows x 31 columns]"
            ],
            "text/html": [
              "\n",
              "  <div id=\"df-84778a26-2b3e-4973-b606-a5c1e4718aa9\">\n",
              "    <div class=\"colab-df-container\">\n",
              "      <div>\n",
              "<style scoped>\n",
              "    .dataframe tbody tr th:only-of-type {\n",
              "        vertical-align: middle;\n",
              "    }\n",
              "\n",
              "    .dataframe tbody tr th {\n",
              "        vertical-align: top;\n",
              "    }\n",
              "\n",
              "    .dataframe thead th {\n",
              "        text-align: right;\n",
              "    }\n",
              "</style>\n",
              "<table border=\"1\" class=\"dataframe\">\n",
              "  <thead>\n",
              "    <tr style=\"text-align: right;\">\n",
              "      <th></th>\n",
              "      <th>index</th>\n",
              "      <th>having_IPhaving_IP_Address</th>\n",
              "      <th>URLURL_Length</th>\n",
              "      <th>Shortining_Service</th>\n",
              "      <th>having_At_Symbol</th>\n",
              "      <th>double_slash_redirecting</th>\n",
              "      <th>Prefix_Suffix</th>\n",
              "      <th>having_Sub_Domain</th>\n",
              "      <th>SSLfinal_State</th>\n",
              "      <th>Domain_registeration_length</th>\n",
              "      <th>...</th>\n",
              "      <th>RightClick</th>\n",
              "      <th>popUpWidnow</th>\n",
              "      <th>Iframe</th>\n",
              "      <th>age_of_domain</th>\n",
              "      <th>DNSRecord</th>\n",
              "      <th>web_traffic</th>\n",
              "      <th>Page_Rank</th>\n",
              "      <th>Google_Index</th>\n",
              "      <th>Links_pointing_to_page</th>\n",
              "      <th>Statistical_report</th>\n",
              "    </tr>\n",
              "  </thead>\n",
              "  <tbody>\n",
              "    <tr>\n",
              "      <th>5862</th>\n",
              "      <td>5863</td>\n",
              "      <td>-1</td>\n",
              "      <td>-1</td>\n",
              "      <td>1</td>\n",
              "      <td>1</td>\n",
              "      <td>1</td>\n",
              "      <td>-1</td>\n",
              "      <td>0</td>\n",
              "      <td>-1</td>\n",
              "      <td>1</td>\n",
              "      <td>...</td>\n",
              "      <td>1</td>\n",
              "      <td>-1</td>\n",
              "      <td>1</td>\n",
              "      <td>-1</td>\n",
              "      <td>1</td>\n",
              "      <td>-1.0</td>\n",
              "      <td>1.0</td>\n",
              "      <td>1.0</td>\n",
              "      <td>1.0</td>\n",
              "      <td>1.0</td>\n",
              "    </tr>\n",
              "    <tr>\n",
              "      <th>2804</th>\n",
              "      <td>2805</td>\n",
              "      <td>1</td>\n",
              "      <td>-1</td>\n",
              "      <td>1</td>\n",
              "      <td>1</td>\n",
              "      <td>1</td>\n",
              "      <td>-1</td>\n",
              "      <td>1</td>\n",
              "      <td>1</td>\n",
              "      <td>-1</td>\n",
              "      <td>...</td>\n",
              "      <td>1</td>\n",
              "      <td>1</td>\n",
              "      <td>1</td>\n",
              "      <td>1</td>\n",
              "      <td>-1</td>\n",
              "      <td>0.0</td>\n",
              "      <td>-1.0</td>\n",
              "      <td>1.0</td>\n",
              "      <td>0.0</td>\n",
              "      <td>1.0</td>\n",
              "    </tr>\n",
              "    <tr>\n",
              "      <th>129</th>\n",
              "      <td>130</td>\n",
              "      <td>1</td>\n",
              "      <td>-1</td>\n",
              "      <td>1</td>\n",
              "      <td>1</td>\n",
              "      <td>-1</td>\n",
              "      <td>-1</td>\n",
              "      <td>-1</td>\n",
              "      <td>1</td>\n",
              "      <td>-1</td>\n",
              "      <td>...</td>\n",
              "      <td>1</td>\n",
              "      <td>1</td>\n",
              "      <td>1</td>\n",
              "      <td>-1</td>\n",
              "      <td>-1</td>\n",
              "      <td>1.0</td>\n",
              "      <td>-1.0</td>\n",
              "      <td>1.0</td>\n",
              "      <td>0.0</td>\n",
              "      <td>1.0</td>\n",
              "    </tr>\n",
              "    <tr>\n",
              "      <th>5130</th>\n",
              "      <td>5131</td>\n",
              "      <td>1</td>\n",
              "      <td>-1</td>\n",
              "      <td>-1</td>\n",
              "      <td>1</td>\n",
              "      <td>1</td>\n",
              "      <td>-1</td>\n",
              "      <td>0</td>\n",
              "      <td>1</td>\n",
              "      <td>-1</td>\n",
              "      <td>...</td>\n",
              "      <td>1</td>\n",
              "      <td>1</td>\n",
              "      <td>1</td>\n",
              "      <td>-1</td>\n",
              "      <td>1</td>\n",
              "      <td>0.0</td>\n",
              "      <td>-1.0</td>\n",
              "      <td>1.0</td>\n",
              "      <td>0.0</td>\n",
              "      <td>1.0</td>\n",
              "    </tr>\n",
              "    <tr>\n",
              "      <th>5957</th>\n",
              "      <td>5958</td>\n",
              "      <td>1</td>\n",
              "      <td>-1</td>\n",
              "      <td>1</td>\n",
              "      <td>1</td>\n",
              "      <td>1</td>\n",
              "      <td>-1</td>\n",
              "      <td>1</td>\n",
              "      <td>-1</td>\n",
              "      <td>-1</td>\n",
              "      <td>...</td>\n",
              "      <td>1</td>\n",
              "      <td>1</td>\n",
              "      <td>1</td>\n",
              "      <td>-1</td>\n",
              "      <td>1</td>\n",
              "      <td>0.0</td>\n",
              "      <td>-1.0</td>\n",
              "      <td>1.0</td>\n",
              "      <td>0.0</td>\n",
              "      <td>1.0</td>\n",
              "    </tr>\n",
              "    <tr>\n",
              "      <th>...</th>\n",
              "      <td>...</td>\n",
              "      <td>...</td>\n",
              "      <td>...</td>\n",
              "      <td>...</td>\n",
              "      <td>...</td>\n",
              "      <td>...</td>\n",
              "      <td>...</td>\n",
              "      <td>...</td>\n",
              "      <td>...</td>\n",
              "      <td>...</td>\n",
              "      <td>...</td>\n",
              "      <td>...</td>\n",
              "      <td>...</td>\n",
              "      <td>...</td>\n",
              "      <td>...</td>\n",
              "      <td>...</td>\n",
              "      <td>...</td>\n",
              "      <td>...</td>\n",
              "      <td>...</td>\n",
              "      <td>...</td>\n",
              "      <td>...</td>\n",
              "    </tr>\n",
              "    <tr>\n",
              "      <th>792</th>\n",
              "      <td>793</td>\n",
              "      <td>1</td>\n",
              "      <td>1</td>\n",
              "      <td>1</td>\n",
              "      <td>1</td>\n",
              "      <td>1</td>\n",
              "      <td>-1</td>\n",
              "      <td>1</td>\n",
              "      <td>1</td>\n",
              "      <td>-1</td>\n",
              "      <td>...</td>\n",
              "      <td>1</td>\n",
              "      <td>1</td>\n",
              "      <td>1</td>\n",
              "      <td>1</td>\n",
              "      <td>1</td>\n",
              "      <td>-1.0</td>\n",
              "      <td>1.0</td>\n",
              "      <td>1.0</td>\n",
              "      <td>0.0</td>\n",
              "      <td>1.0</td>\n",
              "    </tr>\n",
              "    <tr>\n",
              "      <th>5857</th>\n",
              "      <td>5858</td>\n",
              "      <td>-1</td>\n",
              "      <td>-1</td>\n",
              "      <td>1</td>\n",
              "      <td>1</td>\n",
              "      <td>1</td>\n",
              "      <td>1</td>\n",
              "      <td>1</td>\n",
              "      <td>-1</td>\n",
              "      <td>-1</td>\n",
              "      <td>...</td>\n",
              "      <td>1</td>\n",
              "      <td>1</td>\n",
              "      <td>1</td>\n",
              "      <td>-1</td>\n",
              "      <td>1</td>\n",
              "      <td>-1.0</td>\n",
              "      <td>1.0</td>\n",
              "      <td>1.0</td>\n",
              "      <td>1.0</td>\n",
              "      <td>1.0</td>\n",
              "    </tr>\n",
              "    <tr>\n",
              "      <th>5910</th>\n",
              "      <td>5911</td>\n",
              "      <td>1</td>\n",
              "      <td>-1</td>\n",
              "      <td>-1</td>\n",
              "      <td>1</td>\n",
              "      <td>-1</td>\n",
              "      <td>-1</td>\n",
              "      <td>1</td>\n",
              "      <td>0</td>\n",
              "      <td>1</td>\n",
              "      <td>...</td>\n",
              "      <td>1</td>\n",
              "      <td>1</td>\n",
              "      <td>1</td>\n",
              "      <td>-1</td>\n",
              "      <td>-1</td>\n",
              "      <td>-1.0</td>\n",
              "      <td>-1.0</td>\n",
              "      <td>-1.0</td>\n",
              "      <td>0.0</td>\n",
              "      <td>-1.0</td>\n",
              "    </tr>\n",
              "    <tr>\n",
              "      <th>4226</th>\n",
              "      <td>4227</td>\n",
              "      <td>1</td>\n",
              "      <td>1</td>\n",
              "      <td>1</td>\n",
              "      <td>1</td>\n",
              "      <td>1</td>\n",
              "      <td>-1</td>\n",
              "      <td>0</td>\n",
              "      <td>1</td>\n",
              "      <td>-1</td>\n",
              "      <td>...</td>\n",
              "      <td>1</td>\n",
              "      <td>-1</td>\n",
              "      <td>-1</td>\n",
              "      <td>-1</td>\n",
              "      <td>-1</td>\n",
              "      <td>1.0</td>\n",
              "      <td>-1.0</td>\n",
              "      <td>1.0</td>\n",
              "      <td>-1.0</td>\n",
              "      <td>1.0</td>\n",
              "    </tr>\n",
              "    <tr>\n",
              "      <th>5988</th>\n",
              "      <td>5989</td>\n",
              "      <td>1</td>\n",
              "      <td>-1</td>\n",
              "      <td>1</td>\n",
              "      <td>1</td>\n",
              "      <td>1</td>\n",
              "      <td>-1</td>\n",
              "      <td>1</td>\n",
              "      <td>1</td>\n",
              "      <td>-1</td>\n",
              "      <td>...</td>\n",
              "      <td>1</td>\n",
              "      <td>1</td>\n",
              "      <td>1</td>\n",
              "      <td>-1</td>\n",
              "      <td>1</td>\n",
              "      <td>1.0</td>\n",
              "      <td>-1.0</td>\n",
              "      <td>1.0</td>\n",
              "      <td>0.0</td>\n",
              "      <td>1.0</td>\n",
              "    </tr>\n",
              "  </tbody>\n",
              "</table>\n",
              "<p>2097 rows × 31 columns</p>\n",
              "</div>\n",
              "      <button class=\"colab-df-convert\" onclick=\"convertToInteractive('df-84778a26-2b3e-4973-b606-a5c1e4718aa9')\"\n",
              "              title=\"Convert this dataframe to an interactive table.\"\n",
              "              style=\"display:none;\">\n",
              "        \n",
              "  <svg xmlns=\"http://www.w3.org/2000/svg\" height=\"24px\"viewBox=\"0 0 24 24\"\n",
              "       width=\"24px\">\n",
              "    <path d=\"M0 0h24v24H0V0z\" fill=\"none\"/>\n",
              "    <path d=\"M18.56 5.44l.94 2.06.94-2.06 2.06-.94-2.06-.94-.94-2.06-.94 2.06-2.06.94zm-11 1L8.5 8.5l.94-2.06 2.06-.94-2.06-.94L8.5 2.5l-.94 2.06-2.06.94zm10 10l.94 2.06.94-2.06 2.06-.94-2.06-.94-.94-2.06-.94 2.06-2.06.94z\"/><path d=\"M17.41 7.96l-1.37-1.37c-.4-.4-.92-.59-1.43-.59-.52 0-1.04.2-1.43.59L10.3 9.45l-7.72 7.72c-.78.78-.78 2.05 0 2.83L4 21.41c.39.39.9.59 1.41.59.51 0 1.02-.2 1.41-.59l7.78-7.78 2.81-2.81c.8-.78.8-2.07 0-2.86zM5.41 20L4 18.59l7.72-7.72 1.47 1.35L5.41 20z\"/>\n",
              "  </svg>\n",
              "      </button>\n",
              "      \n",
              "  <style>\n",
              "    .colab-df-container {\n",
              "      display:flex;\n",
              "      flex-wrap:wrap;\n",
              "      gap: 12px;\n",
              "    }\n",
              "\n",
              "    .colab-df-convert {\n",
              "      background-color: #E8F0FE;\n",
              "      border: none;\n",
              "      border-radius: 50%;\n",
              "      cursor: pointer;\n",
              "      display: none;\n",
              "      fill: #1967D2;\n",
              "      height: 32px;\n",
              "      padding: 0 0 0 0;\n",
              "      width: 32px;\n",
              "    }\n",
              "\n",
              "    .colab-df-convert:hover {\n",
              "      background-color: #E2EBFA;\n",
              "      box-shadow: 0px 1px 2px rgba(60, 64, 67, 0.3), 0px 1px 3px 1px rgba(60, 64, 67, 0.15);\n",
              "      fill: #174EA6;\n",
              "    }\n",
              "\n",
              "    [theme=dark] .colab-df-convert {\n",
              "      background-color: #3B4455;\n",
              "      fill: #D2E3FC;\n",
              "    }\n",
              "\n",
              "    [theme=dark] .colab-df-convert:hover {\n",
              "      background-color: #434B5C;\n",
              "      box-shadow: 0px 1px 3px 1px rgba(0, 0, 0, 0.15);\n",
              "      filter: drop-shadow(0px 1px 2px rgba(0, 0, 0, 0.3));\n",
              "      fill: #FFFFFF;\n",
              "    }\n",
              "  </style>\n",
              "\n",
              "      <script>\n",
              "        const buttonEl =\n",
              "          document.querySelector('#df-84778a26-2b3e-4973-b606-a5c1e4718aa9 button.colab-df-convert');\n",
              "        buttonEl.style.display =\n",
              "          google.colab.kernel.accessAllowed ? 'block' : 'none';\n",
              "\n",
              "        async function convertToInteractive(key) {\n",
              "          const element = document.querySelector('#df-84778a26-2b3e-4973-b606-a5c1e4718aa9');\n",
              "          const dataTable =\n",
              "            await google.colab.kernel.invokeFunction('convertToInteractive',\n",
              "                                                     [key], {});\n",
              "          if (!dataTable) return;\n",
              "\n",
              "          const docLinkHtml = 'Like what you see? Visit the ' +\n",
              "            '<a target=\"_blank\" href=https://colab.research.google.com/notebooks/data_table.ipynb>data table notebook</a>'\n",
              "            + ' to learn more about interactive tables.';\n",
              "          element.innerHTML = '';\n",
              "          dataTable['output_type'] = 'display_data';\n",
              "          await google.colab.output.renderOutput(dataTable, element);\n",
              "          const docLink = document.createElement('div');\n",
              "          docLink.innerHTML = docLinkHtml;\n",
              "          element.appendChild(docLink);\n",
              "        }\n",
              "      </script>\n",
              "    </div>\n",
              "  </div>\n",
              "  "
            ]
          },
          "metadata": {},
          "execution_count": 27
        }
      ]
    },
    {
      "cell_type": "markdown",
      "source": [
        "**Model Building**\n"
      ],
      "metadata": {
        "id": "MKlJZxqPUhvB"
      }
    },
    {
      "cell_type": "markdown",
      "source": [
        "**Logistic Regression**"
      ],
      "metadata": {
        "id": "95qhyT42UunI"
      }
    },
    {
      "cell_type": "code",
      "source": [
        "classifier = LogisticRegression()\n",
        "classifier.fit(featuresTraining, labelsTraining)"
      ],
      "metadata": {
        "colab": {
          "base_uri": "https://localhost:8080/"
        },
        "id": "Kg7xRu1YU6-x",
        "outputId": "90bccfa6-09fd-48a8-b4e7-d6fc40ffb912"
      },
      "execution_count": null,
      "outputs": [
        {
          "output_type": "execute_result",
          "data": {
            "text/plain": [
              "LogisticRegression()"
            ]
          },
          "metadata": {},
          "execution_count": 28
        }
      ]
    },
    {
      "cell_type": "code",
      "source": [
        "y_pred = classifier.predict(featuresTesting)\n",
        "logisticAccuracy = accuracy_score(labelsTesting, y_pred)\n",
        "logisticPrecision = precision_score(labelsTesting, y_pred)\n",
        "logisticRecall = recall_score(labelsTesting, y_pred)\n",
        "logisticF1 = f1_score(labelsTesting, y_pred)\n",
        "logisticLogLoss = log_loss(labelsTesting, y_pred)\n",
        "logisticAucScore = roc_auc_score(labelsTesting, y_pred)\n",
        "logisticConfusionMatrix = confusion_matrix(labelsTesting, y_pred)"
      ],
      "metadata": {
        "id": "EsvLh-i0VAW3"
      },
      "execution_count": null,
      "outputs": []
    },
    {
      "cell_type": "code",
      "source": [
        "print(f\"Accuracy: {logisticAccuracy}\")\n",
        "print(f\"Precision: {logisticPrecision}\")\n",
        "print(f\"Recall: {logisticRecall}\")\n",
        "print(f\"F1 Score: {logisticF1}\")\n",
        "print(f\"Log Loss: {logisticLogLoss}\")\n",
        "print(f\"AUC Score: {logisticAucScore}\")\n",
        "print(\"Confusion Matrix:\")\n",
        "print(logisticConfusionMatrix)"
      ],
      "metadata": {
        "colab": {
          "base_uri": "https://localhost:8080/"
        },
        "id": "EASw1U8oVBe2",
        "outputId": "d78da394-462b-4422-eb4d-898d3bb80896"
      },
      "execution_count": null,
      "outputs": [
        {
          "output_type": "stream",
          "name": "stdout",
          "text": [
            "Accuracy: 0.9122556032427277\n",
            "Precision: 0.9103568320278503\n",
            "Recall: 0.9281277728482697\n",
            "F1 Score: 0.9191564147627417\n",
            "Log Loss: 3.030623373962268\n",
            "AUC Score: 0.9109711029189802\n",
            "Confusion Matrix:\n",
            "[[ 867  103]\n",
            " [  81 1046]]\n"
          ]
        }
      ]
    },
    {
      "cell_type": "markdown",
      "source": [
        "**Stochastic Gradient Descent (SGD)**"
      ],
      "metadata": {
        "id": "qohqKNIkVIXp"
      }
    },
    {
      "cell_type": "code",
      "source": [
        "classifier = SGDClassifier()\n",
        "classifier.fit(featuresTraining, labelsTraining)"
      ],
      "metadata": {
        "colab": {
          "base_uri": "https://localhost:8080/"
        },
        "id": "htOu4ziSVErl",
        "outputId": "6ae8cde8-b255-4269-c5a3-4cddea2a7f23"
      },
      "execution_count": null,
      "outputs": [
        {
          "output_type": "execute_result",
          "data": {
            "text/plain": [
              "SGDClassifier()"
            ]
          },
          "metadata": {},
          "execution_count": 31
        }
      ]
    },
    {
      "cell_type": "code",
      "source": [
        "y_pred = classifier.predict(featuresTesting)\n",
        "stochasticAccuracy = accuracy_score(labelsTesting, y_pred)\n",
        "stochasticPrecision = precision_score(labelsTesting, y_pred)\n",
        "stochasticRecall = recall_score(labelsTesting, y_pred)\n",
        "stochasticF1 = f1_score(labelsTesting, y_pred)\n",
        "stochasticLogLoss = log_loss(labelsTesting, y_pred)\n",
        "stochasticAucScore = roc_auc_score(labelsTesting, y_pred)\n",
        "stochasticConfusionMatrix = confusion_matrix(labelsTesting, y_pred)"
      ],
      "metadata": {
        "id": "kQtzAaotVP4-"
      },
      "execution_count": null,
      "outputs": []
    },
    {
      "cell_type": "code",
      "source": [
        "print(f\"Accuracy: {stochasticAccuracy}\")\n",
        "print(f\"Precision: {stochasticPrecision}\")\n",
        "print(f\"Recall: {stochasticRecall}\")\n",
        "print(f\"F1 Score: {stochasticF1}\")\n",
        "print(f\"Log Loss: {stochasticLogLoss}\")\n",
        "print(f\"AUC Score: {stochasticAucScore}\")\n",
        "print(\"Confusion Matrix:\")\n",
        "print(stochasticConfusionMatrix)"
      ],
      "metadata": {
        "colab": {
          "base_uri": "https://localhost:8080/"
        },
        "id": "RK82sEKvVRCB",
        "outputId": "2d862b23-d2ff-4adf-89a5-19fda7cfc32c"
      },
      "execution_count": null,
      "outputs": [
        {
          "output_type": "stream",
          "name": "stdout",
          "text": [
            "Accuracy: 0.5450643776824035\n",
            "Precision: 0.5416867469879518\n",
            "Recall: 0.997338065661047\n",
            "F1 Score: 0.7020612117426609\n",
            "Log Loss: 15.713282354745305\n",
            "AUC Score: 0.5084628472635132\n",
            "Confusion Matrix:\n",
            "[[  19  951]\n",
            " [   3 1124]]\n"
          ]
        }
      ]
    },
    {
      "cell_type": "markdown",
      "source": [
        "**Support Vector Machine (SVM)**"
      ],
      "metadata": {
        "id": "Cu4d2vJIVUzr"
      }
    },
    {
      "cell_type": "code",
      "source": [
        "classifier = SVC()\n",
        "classifier.fit(featuresTraining, labelsTraining)"
      ],
      "metadata": {
        "colab": {
          "base_uri": "https://localhost:8080/"
        },
        "id": "efHHTsJBVWeO",
        "outputId": "adb9fdfc-c5eb-42bc-82ce-de5030a1833c"
      },
      "execution_count": null,
      "outputs": [
        {
          "output_type": "execute_result",
          "data": {
            "text/plain": [
              "SVC()"
            ]
          },
          "metadata": {},
          "execution_count": 34
        }
      ]
    },
    {
      "cell_type": "code",
      "source": [
        "y_pred = classifier.predict(featuresTesting)\n",
        "svmAccuracy = accuracy_score(labelsTesting, y_pred)\n",
        "svmPrecision = precision_score(labelsTesting, y_pred)\n",
        "svmRecall = recall_score(labelsTesting, y_pred)\n",
        "svmF1 = f1_score(labelsTesting, y_pred)\n",
        "svmLogLoss = log_loss(labelsTesting, y_pred)\n",
        "svmAucScore = roc_auc_score(labelsTesting, y_pred)\n",
        "svmConfusionMatrix = confusion_matrix(labelsTesting, y_pred)"
      ],
      "metadata": {
        "id": "7NO6LQ3nVZD7"
      },
      "execution_count": null,
      "outputs": []
    },
    {
      "cell_type": "code",
      "source": [
        "print(f\"Accuracy: {svmAccuracy}\")\n",
        "print(f\"Precision: {svmPrecision }\")\n",
        "print(f\"Recall: {svmRecall}\")\n",
        "print(f\"F1 Score: {svmF1}\")\n",
        "print(f\"Log Loss: {svmLogLoss}\")\n",
        "print(f\"AUC Score: {svmAucScore}\")\n",
        "print(\"Confusion Matrix:\")\n",
        "print(svmConfusionMatrix)"
      ],
      "metadata": {
        "colab": {
          "base_uri": "https://localhost:8080/"
        },
        "id": "vd9cbq8hVdIE",
        "outputId": "5bf63aa2-d5c6-43b2-b4ad-3d5cf2a842ec"
      },
      "execution_count": null,
      "outputs": [
        {
          "output_type": "stream",
          "name": "stdout",
          "text": [
            "Accuracy: 0.5374344301382928\n",
            "Precision: 0.5374344301382928\n",
            "Recall: 1.0\n",
            "F1 Score: 0.6991315136476428\n",
            "Log Loss: 15.9768186516789\n",
            "AUC Score: 0.5\n",
            "Confusion Matrix:\n",
            "[[   0  970]\n",
            " [   0 1127]]\n"
          ]
        }
      ]
    },
    {
      "cell_type": "markdown",
      "source": [
        "**Decision Tree**"
      ],
      "metadata": {
        "id": "SzfLnbQJVfeF"
      }
    },
    {
      "cell_type": "code",
      "source": [
        "classifier = DecisionTreeClassifier()\n",
        "classifier.fit(featuresTraining, labelsTraining)"
      ],
      "metadata": {
        "colab": {
          "base_uri": "https://localhost:8080/"
        },
        "id": "Nq2Ex-52Vgzf",
        "outputId": "82ab80b1-4864-4975-8330-2158aa19c186"
      },
      "execution_count": null,
      "outputs": [
        {
          "output_type": "execute_result",
          "data": {
            "text/plain": [
              "DecisionTreeClassifier()"
            ]
          },
          "metadata": {},
          "execution_count": 37
        }
      ]
    },
    {
      "cell_type": "code",
      "source": [
        "y_pred = classifier.predict(featuresTesting)\n",
        "decisionTreeAccuracy = accuracy_score(labelsTesting, y_pred)\n",
        "decisionTreePrecision = precision_score(labelsTesting, y_pred)\n",
        "decisionTreeRecall = recall_score(labelsTesting, y_pred)\n",
        "decisionTreeF1 = f1_score(labelsTesting, y_pred)\n",
        "decisionTreeLogLoss = log_loss(labelsTesting, y_pred)\n",
        "decisionTreeAucScore = roc_auc_score(labelsTesting, y_pred)\n",
        "decisionTreeConfusionMatrix = confusion_matrix(labelsTesting, y_pred)"
      ],
      "metadata": {
        "id": "nPIMxlgDVjw8"
      },
      "execution_count": null,
      "outputs": []
    },
    {
      "cell_type": "markdown",
      "source": [
        "**K Nearest Neighbors (KNN)**"
      ],
      "metadata": {
        "id": "8qPhi_dlVqiU"
      }
    },
    {
      "cell_type": "code",
      "source": [
        "classifier = KNeighborsClassifier()\n",
        "classifier.fit(featuresTraining, labelsTraining)"
      ],
      "metadata": {
        "colab": {
          "base_uri": "https://localhost:8080/"
        },
        "id": "06HrZQVjVn0_",
        "outputId": "d5a3b002-97b6-4444-bd80-bc4ec2f200ea"
      },
      "execution_count": null,
      "outputs": [
        {
          "output_type": "execute_result",
          "data": {
            "text/plain": [
              "KNeighborsClassifier()"
            ]
          },
          "metadata": {},
          "execution_count": 39
        }
      ]
    },
    {
      "cell_type": "code",
      "source": [
        "y_pred = classifier.predict(featuresTesting)\n",
        "knnAccuracy = accuracy_score(labelsTesting, y_pred)\n",
        "knnPrecision = precision_score(labelsTesting, y_pred)\n",
        "knnRecall = recall_score(labelsTesting, y_pred)\n",
        "knnF1 = f1_score(labelsTesting, y_pred)\n",
        "knnLogLoss = log_loss(labelsTesting, y_pred)\n",
        "knnAucScore = roc_auc_score(labelsTesting, y_pred)\n",
        "knnConfusionMatrix = confusion_matrix(labelsTesting, y_pred)"
      ],
      "metadata": {
        "id": "J82W18TYVuSh"
      },
      "execution_count": null,
      "outputs": []
    },
    {
      "cell_type": "code",
      "source": [
        "print(f\"Accuracy: {knnAccuracy}\")\n",
        "print(f\"Precision: {knnPrecision}\")\n",
        "print(f\"Recall: {knnRecall}\")\n",
        "print(f\"F1 Score: {knnF1}\")\n",
        "print(f\"Log Loss: {knnLogLoss}\")\n",
        "print(f\"AUC Score: {knnAucScore}\")\n",
        "print(\"Confusion Matrix:\")\n",
        "print(knnConfusionMatrix)"
      ],
      "metadata": {
        "colab": {
          "base_uri": "https://localhost:8080/"
        },
        "id": "2JvoZPTlVw0R",
        "outputId": "89d6a19f-37d1-41c3-af39-2f2c0c74fe93"
      },
      "execution_count": null,
      "outputs": [
        {
          "output_type": "stream",
          "name": "stdout",
          "text": [
            "Accuracy: 0.5803528850739151\n",
            "Precision: 0.5996771589991929\n",
            "Recall: 0.6592724046140195\n",
            "F1 Score: 0.6280642434488589\n",
            "Log Loss: 14.494286994681342\n",
            "AUC Score: 0.5739660992142263\n",
            "Confusion Matrix:\n",
            "[[474 496]\n",
            " [384 743]]\n"
          ]
        }
      ]
    },
    {
      "cell_type": "markdown",
      "source": [
        "**Random Forest**"
      ],
      "metadata": {
        "id": "Td7edlrAV1OX"
      }
    },
    {
      "cell_type": "code",
      "source": [
        "classifier = RandomForestClassifier()\n",
        "classifier.fit(featuresTraining, labelsTraining)"
      ],
      "metadata": {
        "colab": {
          "base_uri": "https://localhost:8080/"
        },
        "id": "j-JIjPtCV7CV",
        "outputId": "1e6a0e36-0baa-43ab-bdf3-ce8cb2f91d47"
      },
      "execution_count": null,
      "outputs": [
        {
          "output_type": "execute_result",
          "data": {
            "text/plain": [
              "RandomForestClassifier()"
            ]
          },
          "metadata": {},
          "execution_count": 42
        }
      ]
    },
    {
      "cell_type": "code",
      "source": [
        "y_pred = classifier.predict(featuresTesting)\n",
        "randomForestAccuracy = accuracy_score(labelsTesting, y_pred)\n",
        "randomForestPrecision = precision_score(labelsTesting, y_pred)\n",
        "randomForestRecall = recall_score(labelsTesting, y_pred)\n",
        "randomForestF1 = f1_score(labelsTesting, y_pred)\n",
        "randomForestLogLoss = log_loss(labelsTesting, y_pred)\n",
        "randomForestAucScore = roc_auc_score(labelsTesting, y_pred)\n",
        "randomForestConfusionMatrix = confusion_matrix(labelsTesting, y_pred)"
      ],
      "metadata": {
        "id": "jTS3-8wnV-81"
      },
      "execution_count": null,
      "outputs": []
    },
    {
      "cell_type": "code",
      "source": [
        "print(f\"Accuracy: {randomForestAccuracy}\")\n",
        "print(f\"Precision: {randomForestPrecision}\")\n",
        "print(f\"Recall: {randomForestRecall}\")\n",
        "print(f\"F1 Score: {randomForestF1}\")\n",
        "print(f\"Log Loss: {randomForestLogLoss}\")\n",
        "print(f\"AUC Score: {randomForestAucScore}\")\n",
        "print(\"Confusion Matrix:\")\n",
        "print(randomForestConfusionMatrix)"
      ],
      "metadata": {
        "colab": {
          "base_uri": "https://localhost:8080/"
        },
        "id": "MRMQPTrGWBq5",
        "outputId": "021e3212-d084-475a-fe19-2e52fa475c12"
      },
      "execution_count": null,
      "outputs": [
        {
          "output_type": "stream",
          "name": "stdout",
          "text": [
            "Accuracy: 0.9675727229375298\n",
            "Precision: 0.9698314108251996\n",
            "Recall: 0.9698314108251996\n",
            "F1 Score: 0.9698314108251996\n",
            "Log Loss: 1.120011435940179\n",
            "AUC Score: 0.9673899322167236\n",
            "Confusion Matrix:\n",
            "[[ 936   34]\n",
            " [  34 1093]]\n"
          ]
        }
      ]
    },
    {
      "cell_type": "markdown",
      "source": [
        "**XG Boost (XGB)**"
      ],
      "metadata": {
        "id": "dw8Ir_IpWq_X"
      }
    },
    {
      "cell_type": "code",
      "source": [
        "classifier = xgb.XGBClassifier()\n",
        "classifier.fit(featuresTraining, labelsTraining)"
      ],
      "metadata": {
        "colab": {
          "base_uri": "https://localhost:8080/"
        },
        "id": "0UBCP93mWwtI",
        "outputId": "646e41a4-e1f1-43c4-9f72-2b689e45f8c0"
      },
      "execution_count": null,
      "outputs": [
        {
          "output_type": "execute_result",
          "data": {
            "text/plain": [
              "XGBClassifier()"
            ]
          },
          "metadata": {},
          "execution_count": 45
        }
      ]
    },
    {
      "cell_type": "code",
      "source": [
        "y_pred = classifier.predict(featuresTesting)\n",
        "xgbAccuracy = accuracy_score(labelsTesting, y_pred)\n",
        "xgbPrecision = precision_score(labelsTesting, y_pred)\n",
        "xgbRecall = recall_score(labelsTesting, y_pred)\n",
        "xgbF1 = f1_score(labelsTesting, y_pred)\n",
        "xgbLogLoss = log_loss(labelsTesting, y_pred)\n",
        "xgbAucScore = roc_auc_score(labelsTesting, y_pred)\n",
        "xgbConfusionMatrix = confusion_matrix(labelsTesting, y_pred)"
      ],
      "metadata": {
        "id": "CBCe7avxW3Cb"
      },
      "execution_count": null,
      "outputs": []
    },
    {
      "cell_type": "code",
      "source": [
        "print(f\"Accuracy: {xgbAccuracy}\")\n",
        "print(f\"Precision: {xgbPrecision}\")\n",
        "print(f\"Recall: {xgbRecall}\")\n",
        "print(f\"F1 Score: {xgbF1}\")\n",
        "print(f\"Log Loss: {xgbLogLoss}\")\n",
        "print(f\"AUC Score: {xgbAucScore}\")\n",
        "print(\"Confusion Matrix:\")\n",
        "print(xgbConfusionMatrix)"
      ],
      "metadata": {
        "id": "oHqbNLr_W8jc",
        "colab": {
          "base_uri": "https://localhost:8080/"
        },
        "outputId": "849f840c-95f9-4cb0-da27-54ca3ead2820"
      },
      "execution_count": 47,
      "outputs": [
        {
          "output_type": "stream",
          "name": "stdout",
          "text": [
            "Accuracy: 0.9504053409632809\n",
            "Precision: 0.9383033419023136\n",
            "Recall: 0.9716060337178349\n",
            "F1 Score: 0.9546643417611159\n",
            "Log Loss: 1.7129662928400986\n",
            "AUC Score: 0.9486896147970618\n",
            "Confusion Matrix:\n",
            "[[ 898   72]\n",
            " [  32 1095]]\n"
          ]
        }
      ]
    },
    {
      "cell_type": "markdown",
      "source": [
        "**Multi Layer Perceptron (MLP)**"
      ],
      "metadata": {
        "id": "Ptena2pGXYnR"
      }
    },
    {
      "cell_type": "code",
      "source": [
        "classifier = MLPClassifier()\n",
        "classifier.fit(featuresTraining, labelsTraining)"
      ],
      "metadata": {
        "colab": {
          "base_uri": "https://localhost:8080/"
        },
        "id": "cdesznjGXViS",
        "outputId": "55c17afb-6112-4dc4-dca2-663b3afcae5f"
      },
      "execution_count": 48,
      "outputs": [
        {
          "output_type": "execute_result",
          "data": {
            "text/plain": [
              "MLPClassifier()"
            ]
          },
          "metadata": {},
          "execution_count": 48
        }
      ]
    },
    {
      "cell_type": "code",
      "source": [
        "y_pred = classifier.predict(featuresTesting)\n",
        "mlpAccuracy = accuracy_score(labelsTesting, y_pred)\n",
        "mlpPrecision = precision_score(labelsTesting, y_pred)\n",
        "mlpRecall = recall_score(labelsTesting, y_pred)\n",
        "mlpF1 = f1_score(labelsTesting, y_pred)\n",
        "mlpLogLoss = log_loss(labelsTesting, y_pred)\n",
        "mlpAucScore = roc_auc_score(labelsTesting, y_pred)\n",
        "mlpConfusionMatrix = confusion_matrix(labelsTesting, y_pred)"
      ],
      "metadata": {
        "id": "KIOEP73pXdm4"
      },
      "execution_count": 49,
      "outputs": []
    },
    {
      "cell_type": "code",
      "source": [
        "print(f\"Accuracy: {mlpAccuracy}\")\n",
        "print(f\"Precision: {mlpPrecision}\")\n",
        "print(f\"Recall: {mlpRecall}\")\n",
        "print(f\"F1 Score: {mlpF1}\")\n",
        "print(f\"Log Loss: {mlpLogLoss}\")\n",
        "print(f\"AUC Score: {mlpAucScore}\")\n",
        "print(\"Confusion Matrix:\")\n",
        "print(mlpConfusionMatrix)"
      ],
      "metadata": {
        "colab": {
          "base_uri": "https://localhost:8080/"
        },
        "id": "EGZmt8RHXid3",
        "outputId": "d4fa17a3-09f9-430b-fd74-f81d6b63a29b"
      },
      "execution_count": 50,
      "outputs": [
        {
          "output_type": "stream",
          "name": "stdout",
          "text": [
            "Accuracy: 0.849308536003815\n",
            "Precision: 0.7877927608232789\n",
            "Recall: 0.9849157054125999\n",
            "F1 Score: 0.8753943217665614\n",
            "Log Loss: 5.204812789901481\n",
            "AUC Score: 0.8383341413660939\n",
            "Confusion Matrix:\n",
            "[[ 671  299]\n",
            " [  17 1110]]\n"
          ]
        }
      ]
    },
    {
      "cell_type": "markdown",
      "source": [
        "**Quadratic Discriminant Analysis (QDA)**"
      ],
      "metadata": {
        "id": "LoLriMUCXoMt"
      }
    },
    {
      "cell_type": "code",
      "source": [
        "classifier = QuadraticDiscriminantAnalysis()\n",
        "classifier.fit(featuresTraining, labelsTraining)"
      ],
      "metadata": {
        "colab": {
          "base_uri": "https://localhost:8080/"
        },
        "id": "JVaot4gFXpz3",
        "outputId": "84fa7db9-5026-4194-f23f-99ae6296b5a5"
      },
      "execution_count": 51,
      "outputs": [
        {
          "output_type": "execute_result",
          "data": {
            "text/plain": [
              "QuadraticDiscriminantAnalysis()"
            ]
          },
          "metadata": {},
          "execution_count": 51
        }
      ]
    },
    {
      "cell_type": "code",
      "source": [
        "y_pred = classifier.predict(featuresTesting)\n",
        "qdaAccuracy = accuracy_score(labelsTesting, y_pred)\n",
        "qdaPrecision = precision_score(labelsTesting, y_pred)\n",
        "qdaRecall = recall_score(labelsTesting, y_pred)\n",
        "qdaF1 = f1_score(labelsTesting, y_pred)\n",
        "qdaLogLoss = log_loss(labelsTesting, y_pred)\n",
        "qdaAucScore = roc_auc_score(labelsTesting, y_pred)\n",
        "qdaConfusionMatrix = confusion_matrix(labelsTesting, y_pred)"
      ],
      "metadata": {
        "id": "DKuBnXpcXujl"
      },
      "execution_count": 52,
      "outputs": []
    },
    {
      "cell_type": "code",
      "source": [
        "print(f\"Accuracy: {qdaAccuracy}\")\n",
        "print(f\"Precision: {qdaPrecision}\")\n",
        "print(f\"Recall: {qdaRecall}\")\n",
        "print(f\"F1 Score: {qdaF1}\")\n",
        "print(f\"Log Loss: {qdaLogLoss}\")\n",
        "print(f\"AUC Score: {qdaAucScore}\")\n",
        "print(\"Confusion Matrix:\")\n",
        "print(qdaConfusionMatrix)"
      ],
      "metadata": {
        "colab": {
          "base_uri": "https://localhost:8080/"
        },
        "id": "bG8guWodXyng",
        "outputId": "f324a894-af79-44af-ceef-f0bdf20e71ec"
      },
      "execution_count": 53,
      "outputs": [
        {
          "output_type": "stream",
          "name": "stdout",
          "text": [
            "Accuracy: 0.6018121125417263\n",
            "Precision: 1.0\n",
            "Recall: 0.259094942324756\n",
            "F1 Score: 0.4115574348132488\n",
            "Log Loss: 13.752922408083176\n",
            "AUC Score: 0.629547471162378\n",
            "Confusion Matrix:\n",
            "[[970   0]\n",
            " [835 292]]\n"
          ]
        }
      ]
    },
    {
      "cell_type": "markdown",
      "source": [
        "**Comparison of F1 Score using Visualization**"
      ],
      "metadata": {
        "id": "fl9ZzXtyX4Rk"
      }
    },
    {
      "cell_type": "code",
      "source": [
        "f1Scores = [\n",
        "    [\"Logistic\", logisticF1],\n",
        "    [\"SGD\", stochasticF1],\n",
        "    [\"SVM\", svmF1],\n",
        "    [\"Decision Tree\", decisionTreeF1],\n",
        "    [\"KNN\", knnF1],\n",
        "    [\"Random Forest\", randomForestF1],\n",
        "    [\"XGB\", xgbF1],\n",
        "    [\"MLP\", mlpF1],\n",
        "    [\"QDA\", qdaF1]\n",
        "]"
      ],
      "metadata": {
        "id": "sKjdsTk4X2M_"
      },
      "execution_count": 54,
      "outputs": []
    },
    {
      "cell_type": "markdown",
      "source": [
        "**Sorting the 'f1Scores' list based on the f1Score value**"
      ],
      "metadata": {
        "id": "QlmoUXAuYCZu"
      }
    },
    {
      "cell_type": "code",
      "source": [
        "f1Scores.sort(key = lambda item: -item[1])"
      ],
      "metadata": {
        "id": "4uPZ0DuWYFwJ"
      },
      "execution_count": 57,
      "outputs": []
    },
    {
      "cell_type": "markdown",
      "source": [
        "**Converting the list to dictionary**"
      ],
      "metadata": {
        "id": "CYvJDw9kYLUz"
      }
    },
    {
      "cell_type": "code",
      "source": [
        "f1Scores = dict(f1Scores)"
      ],
      "metadata": {
        "id": "MHY_t1-iYIsj"
      },
      "execution_count": 58,
      "outputs": []
    },
    {
      "cell_type": "markdown",
      "source": [
        "**Splitting the keys and values from the dictionary**"
      ],
      "metadata": {
        "id": "gBV4CUTVYR6s"
      }
    },
    {
      "cell_type": "code",
      "source": [
        "algoName = f1Scores.keys()\n",
        "algoF1 = f1Scores.values()"
      ],
      "metadata": {
        "id": "SBxgfj2yYT2X"
      },
      "execution_count": 59,
      "outputs": []
    },
    {
      "cell_type": "markdown",
      "source": [
        "**Visualization**"
      ],
      "metadata": {
        "id": "t289z37rYX_N"
      }
    },
    {
      "cell_type": "code",
      "source": [
        "fig = plt.figure(figsize = (10, 5))\n",
        "\n",
        "plt.bar(algoName, algoF1, color = \"green\", width = 0.3)\n",
        "\n",
        "plt.xlabel(\"Algorithm Name\")\n",
        "plt.ylabel(\"F1 Score\")\n",
        "plt.title(\"Comparison of F1 Score\")\n",
        "plt.show()"
      ],
      "metadata": {
        "colab": {
          "base_uri": "https://localhost:8080/",
          "height": 350
        },
        "id": "53gJY5uRYZUY",
        "outputId": "9eb201dc-7aa1-4b53-9b87-adf7569e2d67"
      },
      "execution_count": 60,
      "outputs": [
        {
          "output_type": "display_data",
          "data": {
            "text/plain": [
              "<Figure size 720x360 with 1 Axes>"
            ],
            "image/png": "[encoded data removed]"
          },
          "metadata": {
            "needs_background": "light"
          }
        }
      ]
    },
    {
      "cell_type": "markdown",
      "source": [
        "**Saving the model**"
      ],
      "metadata": {
        "id": "KFHdZBS0Yfdc"
      }
    },
    {
      "cell_type": "code",
      "source": [
        "randomForestClassifier = RandomForestClassifier()\n",
        "randomForestClassifier.fit(featuresTraining, labelsTraining)"
      ],
      "metadata": {
        "colab": {
          "base_uri": "https://localhost:8080/"
        },
        "id": "xtnuWkZDYk0T",
        "outputId": "1d3bd85d-897c-4110-e243-dfe217d4aea9"
      },
      "execution_count": 61,
      "outputs": [
        {
          "output_type": "execute_result",
          "data": {
            "text/plain": [
              "RandomForestClassifier()"
            ]
          },
          "metadata": {},
          "execution_count": 61
        }
      ]
    },
    {
      "cell_type": "code",
      "source": [
        "pickle.dump(randomForestClassifier, open('model.pkl', 'wb'))"
      ],
      "metadata": {
        "id": "Zd2SiIXcYmDS"
      },
      "execution_count": 62,
      "outputs": []
    }
  ]
}